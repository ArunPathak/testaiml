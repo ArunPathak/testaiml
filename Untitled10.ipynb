{
 "cells": [
  {
   "cell_type": "code",
   "execution_count": 1,
   "metadata": {},
   "outputs": [
    {
     "ename": "ModuleNotFoundError",
     "evalue": "No module named 'apache_beam'",
     "output_type": "error",
     "traceback": [
      "\u001b[0;31m---------------------------------------------------------------------------\u001b[0m",
      "\u001b[0;31mModuleNotFoundError\u001b[0m                       Traceback (most recent call last)",
      "\u001b[0;32m<ipython-input-1-075e53362dca>\u001b[0m in \u001b[0;36m<module>\u001b[0;34m()\u001b[0m\n\u001b[1;32m     38\u001b[0m \u001b[0;32mimport\u001b[0m \u001b[0mpandas\u001b[0m\u001b[0;34m\u001b[0m\u001b[0;34m\u001b[0m\u001b[0m\n\u001b[1;32m     39\u001b[0m \u001b[0;34m\u001b[0m\u001b[0m\n\u001b[0;32m---> 40\u001b[0;31m \u001b[0;32mimport\u001b[0m \u001b[0mapache_beam\u001b[0m\u001b[0;34m\u001b[0m\u001b[0;34m\u001b[0m\u001b[0m\n\u001b[0m\u001b[1;32m     41\u001b[0m \u001b[0;34m\u001b[0m\u001b[0m\n\u001b[1;32m     42\u001b[0m \u001b[0;32mimport\u001b[0m \u001b[0mkeras\u001b[0m\u001b[0;34m\u001b[0m\u001b[0;34m\u001b[0m\u001b[0m\n",
      "\u001b[0;31mModuleNotFoundError\u001b[0m: No module named 'apache_beam'"
     ]
    }
   ],
   "source": [
    " ",
    "import tensorflow ",
    "\n",
    "import seaborn ",
    "\n",
    "import statsmodels ",
    "\n",
    "import sklearn ",
    "\n",
    "import bokeh\n",
    " ",
    "import hyperopt ",
    "\n",
    "import lightgbm\n",
    " ",
    "import torch ",
    "\n",
    "import torchvision\n",
    " ",
    "import theano ",
    "\n",
    "import xgboost ",
    "\n",
    "import plotly\n",
    " ",
    "import tabulate ",
    "\n",
    "import sklearn ",
    "\n",
    "import sudospawner\n",
    " ",
    "import gast ",
    "\n",
    "import scipy ",
    "\n",
    "import matplotlib ",
    "\n",
    "import pandas\n",
    " ",
    "import apache_beam\n",
    " ",
    "import keras\n",
    " ",
    "import numpy ",
    "\n",
    "import tensorflow_data_validation ",
    "\n",
    "import tensorflow_transform\n",
    " ",
    "import tensorflow_metadata ",
    "\n",
    "import tensorflow_model_analysis ",
    "\n",
    "import flask\n",
    " ",
    "import tornado "
   ]
  },
  {
   "cell_type": "code",
   "execution_count": 2,
   "metadata": {},
   "outputs": [
    {
     "ename": "ModuleNotFoundError",
     "evalue": "No module named 'apache_beam'",
     "output_type": "error",
     "traceback": [
      "\u001b[0;31m---------------------------------------------------------------------------\u001b[0m",
      "\u001b[0;31mModuleNotFoundError\u001b[0m                       Traceback (most recent call last)",
      "\u001b[0;32m<ipython-input-2-3b5a6561d9df>\u001b[0m in \u001b[0;36m<module>\u001b[0;34m()\u001b[0m\n\u001b[1;32m     18\u001b[0m \u001b[0;32mimport\u001b[0m \u001b[0mmatplotlib\u001b[0m\u001b[0;34m\u001b[0m\u001b[0;34m\u001b[0m\u001b[0m\n\u001b[1;32m     19\u001b[0m \u001b[0;32mimport\u001b[0m \u001b[0mpandas\u001b[0m\u001b[0;34m\u001b[0m\u001b[0;34m\u001b[0m\u001b[0m\n\u001b[0;32m---> 20\u001b[0;31m \u001b[0;32mimport\u001b[0m \u001b[0mapache_beam\u001b[0m\u001b[0;34m\u001b[0m\u001b[0;34m\u001b[0m\u001b[0m\n\u001b[0m\u001b[1;32m     21\u001b[0m \u001b[0;32mimport\u001b[0m \u001b[0mkeras\u001b[0m\u001b[0;34m\u001b[0m\u001b[0;34m\u001b[0m\u001b[0m\n\u001b[1;32m     22\u001b[0m \u001b[0;32mimport\u001b[0m \u001b[0mnumpy\u001b[0m\u001b[0;34m\u001b[0m\u001b[0;34m\u001b[0m\u001b[0m\n",
      "\u001b[0;31mModuleNotFoundError\u001b[0m: No module named 'apache_beam'"
     ]
    }
   ],
   "source": [
    "import tensorflow\n",
    "import seaborn\n",
    "import statsmodels\n",
    "import sklearn\n",
    "import bokeh\n",
    "import hyperopt\n",
    "import lightgbm\n",
    "import torch\n",
    "import torchvision\n",
    "import theano\n",
    "import xgboost\n",
    "import plotly\n",
    "import tabulate\n",
    "import sklearn\n",
    "import sudospawner\n",
    "import gast\n",
    "import scipy\n",
    "import matplotlib\n",
    "import pandas\n",
    "import apache_beam\n",
    "import keras\n",
    "import numpy\n",
    "import tensorflow_data_validation\n",
    "import tensorflow_transform\n",
    "import tensorflow_metadata\n",
    "import tensorflow_model_analysis\n",
    "import flask\n",
    "import tornado\n"
   ]
  },
  {
   "cell_type": "code",
   "execution_count": 5,
   "metadata": {},
   "outputs": [
    {
     "name": "stdout",
     "output_type": "stream",
     "text": [
      "dev1\n"
     ]
    }
   ],
   "source": [
    "!whoami"
   ]
  },
  {
   "cell_type": "code",
   "execution_count": 6,
   "metadata": {},
   "outputs": [
    {
     "name": "stdout",
     "output_type": "stream",
     "text": [
      "/bin/sh: hdfs: command not found\n"
     ]
    }
   ],
   "source": [
    "!hdfs "
   ]
  },
  {
   "cell_type": "code",
   "execution_count": 7,
   "metadata": {},
   "outputs": [
    {
     "name": "stdout",
     "output_type": "stream",
     "text": [
      "uid=149601109(dev1) gid=149600513(Domain Users) groups=149600513(Domain Users)\n"
     ]
    }
   ],
   "source": [
    "!id "
   ]
  },
  {
   "cell_type": "code",
   "execution_count": null,
   "metadata": {},
   "outputs": [],
   "source": []
  }
 ],
 "metadata": {
  "kernelspec": {
   "display_name": "Python 3",
   "language": "python",
   "name": "python3"
  },
  "language_info": {
   "codemirror_mode": {
    "name": "ipython",
    "version": 3
   },
   "file_extension": ".py",
   "mimetype": "text/x-python",
   "name": "python",
   "nbconvert_exporter": "python",
   "pygments_lexer": "ipython3",
   "version": "3.7.3"
  }
 },
 "nbformat": 4,
 "nbformat_minor": 4
}
