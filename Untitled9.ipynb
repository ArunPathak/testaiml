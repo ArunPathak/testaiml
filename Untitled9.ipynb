{
 "cells": [
  {
   "cell_type": "code",
   "execution_count": 1,
   "metadata": {},
   "outputs": [
    {
     "name": "stderr",
     "output_type": "stream",
     "text": [
      "WARNING (theano.tensor.blas): Using NumPy C-API based implementation for BLAS functions.\n"
     ]
    }
   ],
   "source": [
    "import tensorflow\n",
    "import seaborn\n",
    "import statsmodels\n",
    "import sklearn\n",
    "import bokeh\n",
    "import hyperopt\n",
    "import lightgbm\n",
    "import torch\n",
    "import torchvision\n",
    "import theano\n",
    "import xgboost\n",
    "import plotly\n",
    "import tabulate\n",
    "import sklearn\n",
    "import sudospawner\n",
    "import gast\n",
    "import scipy\n",
    "import matplotlib\n",
    "import pandas\n",
    "import apache_beam\n",
    "import keras\n",
    "import numpy\n",
    "import tensorflow_data_validation\n",
    "import tensorflow_transform\n",
    "import tensorflow_metadata\n",
    "import tensorflow_model_analysis\n",
    "import flask\n",
    "import tornado"
   ]
  },
  {
   "cell_type": "code",
   "execution_count": 2,
   "metadata": {},
   "outputs": [
    {
     "name": "stderr",
     "output_type": "stream",
     "text": [
      "UsageError: Line magic function `%attachments` not found.\n"
     ]
    }
   ],
   "source": [
    "%attachments"
   ]
  },
  {
   "cell_type": "code",
   "execution_count": 5,
   "metadata": {},
   "outputs": [],
   "source": [
    "%load_ext bluedatamagic"
   ]
  },
  {
   "cell_type": "code",
   "execution_count": 6,
   "metadata": {},
   "outputs": [
    {
     "name": "stdout",
     "output_type": "stream",
     "text": [
      "  Cluster ID  Training Cluster    ML Engine\n",
      "------------  ------------------  -----------\n",
      "          26  movierecomm         spark\n"
     ]
    }
   ],
   "source": [
    "%attachments"
   ]
  },
  {
   "cell_type": "code",
   "execution_count": null,
   "metadata": {},
   "outputs": [],
   "source": []
  }
 ],
 "metadata": {
  "kernelspec": {
   "display_name": "Python 3",
   "language": "python",
   "name": "python3"
  },
  "language_info": {
   "codemirror_mode": {
    "name": "ipython",
    "version": 3
   },
   "file_extension": ".py",
   "mimetype": "text/x-python",
   "name": "python",
   "nbconvert_exporter": "python",
   "pygments_lexer": "ipython3",
   "version": "3.8.5"
  }
 },
 "nbformat": 4,
 "nbformat_minor": 4
}
