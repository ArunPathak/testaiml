{
 "cells": [
  {
   "cell_type": "code",
   "execution_count": 1,
   "metadata": {},
   "outputs": [
    {
     "name": "stdout",
     "output_type": "stream",
     "text": [
      "qa1\n"
     ]
    }
   ],
   "source": [
    "!whoami"
   ]
  },
  {
   "cell_type": "code",
   "execution_count": 2,
   "metadata": {},
   "outputs": [
    {
     "name": "stdout",
     "output_type": "stream",
     "text": [
      "uid=149601106(qa1) gid=149600513(Domain Users) groups=149600513(Domain Users),149601107(QA)\n"
     ]
    }
   ],
   "source": [
    "!id"
   ]
  },
  {
   "cell_type": "code",
   "execution_count": 3,
   "metadata": {},
   "outputs": [
    {
     "name": "stdout",
     "output_type": "stream",
     "text": [
      "Usage: hdfs [--config confdir] [--loglevel loglevel] COMMAND\n",
      "       where COMMAND is one of:\n",
      "  dfs                  run a filesystem command on the file systems supported in Hadoop.\n",
      "  classpath            prints the classpath\n",
      "  namenode -format     format the DFS filesystem\n",
      "  secondarynamenode    run the DFS secondary namenode\n",
      "  namenode             run the DFS namenode\n",
      "  journalnode          run the DFS journalnode\n",
      "  zkfc                 run the ZK Failover Controller daemon\n",
      "  datanode             run a DFS datanode\n",
      "  debug                run a Debug Admin to execute HDFS debug commands\n",
      "  dfsadmin             run a DFS admin client\n",
      "  haadmin              run a DFS HA admin client\n",
      "  fsck                 run a DFS filesystem checking utility\n",
      "  balancer             run a cluster balancing utility\n",
      "  jmxget               get JMX exported values from NameNode or DataNode.\n",
      "  mover                run a utility to move block replicas across\n",
      "                       storage types\n",
      "  oiv                  apply the offline fsimage viewer to an fsimage\n",
      "  oiv_legacy           apply the offline fsimage viewer to an legacy fsimage\n",
      "  oev                  apply the offline edits viewer to an edits file\n",
      "  fetchdt              fetch a delegation token from the NameNode\n",
      "  getconf              get config values from configuration\n",
      "  groups               get the groups which users belong to\n",
      "  snapshotDiff         diff two snapshots of a directory or diff the\n",
      "                       current directory contents with a snapshot\n",
      "  lsSnapshottableDir   list all snapshottable dirs owned by the current user\n",
      "\t\t\t\t\t\tUse -help to see options\n",
      "  portmap              run a portmap service\n",
      "  nfs3                 run an NFS version 3 gateway\n",
      "  cacheadmin           configure the HDFS cache\n",
      "  crypto               configure HDFS encryption zones\n",
      "  storagepolicies      list/get/set block storage policies\n",
      "  version              print the version\n",
      "\n",
      "Most commands print help when invoked w/o parameters.\n"
     ]
    }
   ],
   "source": [
    "!hdfs"
   ]
  },
  {
   "cell_type": "code",
   "execution_count": null,
   "metadata": {},
   "outputs": [],
   "source": []
  }
 ],
 "metadata": {
  "kernelspec": {
   "display_name": "Python 3",
   "language": "python",
   "name": "python3"
  },
  "language_info": {
   "codemirror_mode": {
    "name": "ipython",
    "version": 3
   },
   "file_extension": ".py",
   "mimetype": "text/x-python",
   "name": "python",
   "nbconvert_exporter": "python",
   "pygments_lexer": "ipython3",
   "version": "3.7.3"
  }
 },
 "nbformat": 4,
 "nbformat_minor": 4
}
