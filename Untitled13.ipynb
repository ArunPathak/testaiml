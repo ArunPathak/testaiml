{
 "cells": [
  {
   "cell_type": "code",
   "execution_count": 1,
   "metadata": {},
   "outputs": [
    {
     "name": "stdout",
     "output_type": "stream",
     "text": [
      "  Cluster ID  Training Cluster    ML Engine\n",
      "------------  ------------------  -----------\n",
      "           1  pythonmldl          python\n"
     ]
    }
   ],
   "source": [
    "%attachments"
   ]
  },
  {
   "cell_type": "code",
   "execution_count": 2,
   "metadata": {},
   "outputs": [
    {
     "name": "stdout",
     "output_type": "stream",
     "text": [
      "History URL: http://hpecp-2.hpecplocal:10001/history/1\n"
     ]
    }
   ],
   "source": [
    "%%train 1\n",
    "print(\"hi\")"
   ]
  },
  {
   "cell_type": "code",
   "execution_count": 5,
   "metadata": {},
   "outputs": [
    {
     "name": "stdout",
     "output_type": "stream",
     "text": [
      "Job Status: Finished\n",
      "\n",
      "i\n",
      "\n",
      "\n",
      "\n"
     ]
    }
   ],
   "source": [
    "%logs 1 --url http://hpecp-2.hpecplocal:10001/history/1"
   ]
  },
  {
   "cell_type": "code",
   "execution_count": 4,
   "metadata": {},
   "outputs": [
    {
     "name": "stdout",
     "output_type": "stream",
     "text": [
      "TERM=xterm-color\n",
      "SHELL=/bin/bash\n",
      "CLICOLOR=1\n",
      "JPY_API_TOKEN=2f0b6560d14946119c4ece8c521242c9\n",
      "USER=dev1\n",
      "JUPYTERHUB_BASE_URL=/\n",
      "JUPYTERHUB_CLIENT_ID=jupyterhub-user-dev1\n",
      "JUPYTERHUB_API_TOKEN=2f0b6560d14946119c4ece8c521242c9\n",
      "JPY_PARENT_PID=61490\n",
      "PAGER=cat\n",
      "PATH=/bin:/usr/local/sbin:/usr/local/bin:/usr/sbin:/usr/bin:/opt/miniconda/bin\n",
      "PWD=/home/dev1\n",
      "JAVA_HOME=/usr/java/jdk1.8.0_131\n",
      "MPLBACKEND=module://ipykernel.pylab.backend_inline\n",
      "JUPYTERHUB_SERVER_NAME=\n",
      "LANG=en_US.UTF-8\n",
      "JUPYTERHUB_API_URL=http://hpecp-14.hpecplocal:8081/hub/api\n",
      "SHLVL=1\n",
      "HOME=/home/dev1\n",
      "JUPYTERHUB_USER=dev1\n",
      "JUPYTERHUB_ACTIVITY_URL=http://hpecp-14.hpecplocal:8081/hub/api/users/dev1/activity\n",
      "JUPYTERHUB_OAUTH_CALLBACK_URL=/user/dev1/oauth_callback\n",
      "GIT_PYTHON_REFRESH=quiet\n",
      "GIT_PAGER=cat\n",
      "JUPYTERHUB_HOST=\n",
      "JUPYTERHUB_SERVICE_PREFIX=/user/dev1/\n",
      "_=/bin/printenv\n"
     ]
    }
   ],
   "source": [
    "!printenv"
   ]
  },
  {
   "cell_type": "code",
   "execution_count": null,
   "metadata": {},
   "outputs": [],
   "source": []
  }
 ],
 "metadata": {
  "kernelspec": {
   "display_name": "Python 3",
   "language": "python",
   "name": "python3"
  },
  "language_info": {
   "codemirror_mode": {
    "name": "ipython",
    "version": 3
   },
   "file_extension": ".py",
   "mimetype": "text/x-python",
   "name": "python",
   "nbconvert_exporter": "python",
   "pygments_lexer": "ipython3",
   "version": "3.8.5"
  }
 },
 "nbformat": 4,
 "nbformat_minor": 4
}
